{
  "nbformat": 4,
  "nbformat_minor": 0,
  "metadata": {
    "colab": {
      "name": "UNet",
      "provenance": [],
      "collapsed_sections": []
    },
    "kernelspec": {
      "name": "python3",
      "display_name": "Python 3"
    },
    "language_info": {
      "name": "python"
    },
    "accelerator": "GPU"
  },
  "cells": [
    {
      "cell_type": "code",
      "source": [
        "import torch"
      ],
      "metadata": {
        "id": "9RUzR2CAL0jF"
      },
      "execution_count": 1,
      "outputs": []
    },
    {
      "cell_type": "code",
      "execution_count": 2,
      "metadata": {
        "id": "2ubj2hMpKsxx"
      },
      "outputs": [],
      "source": [
        "import os\n",
        "from PIL import Image\n",
        "import glob\n",
        "\n",
        "from torch.utils.data import Dataset, DataLoader\n",
        "from torch import nn\n",
        "from torchvision import transforms"
      ]
    },
    {
      "cell_type": "code",
      "source": [
        "class Br35H(Dataset):\n",
        "\n",
        "    def read_dataset(self):\n",
        "\n",
        "        images_path = self.images_path\n",
        "        masks_path = self.masks_path\n",
        "        imgs =  glob.glob(images_path + \"/*.jpg\")\n",
        "        masks = glob.glob(masks_path + \"/*.png\")\n",
        "\n",
        "        return imgs, masks, len(imgs)\n",
        "\n",
        "    def __init__(self, images_path,masks_path, transforms=None):\n",
        "        self.images_path = images_path\n",
        "        self.masks_path= masks_path\n",
        "        self.images, self.masks, self.length= self.read_dataset()\n",
        "        self.transforms = transforms\n",
        "\n",
        "    def __getitem__(self, index):\n",
        "        image = Image.open(self.images[index]).convert('L')\n",
        "       # image = image.convert(\"RGB\")\n",
        "        \n",
        "        mask = Image.open(self.masks[index]).convert('L')\n",
        "\n",
        "        #mask = image.convert(\"RGB\")\n",
        "        if self.transforms is not None:\n",
        "            image = self.transforms(image)\n",
        "            mask = self.transforms(mask)\n",
        "            \n",
        "\n",
        "        return image, mask\n",
        "\n",
        "    def __len__(self):\n",
        "        return self.length"
      ],
      "metadata": {
        "id": "Q9uvdeQ7K5fo"
      },
      "execution_count": 15,
      "outputs": []
    },
    {
      "cell_type": "code",
      "source": [
        "transforms_train = transforms.Compose([transforms.Resize((256, 256)),\n",
        "                                      #  transforms.Normalize((0.5, 0.5, 0.5), (0.5, 0.5, 0.5)),\n",
        "                                       transforms.RandomRotation(10.),\n",
        "                                       transforms.ToTensor()])\n",
        "\n",
        "transforms_valid = transforms.Compose([transforms.Resize((256, 256)),\n",
        "                                       transforms.ToTensor()])"
      ],
      "metadata": {
        "id": "OhjIRa5qK7wa"
      },
      "execution_count": 4,
      "outputs": []
    },
    {
      "cell_type": "code",
      "source": [
        "traindataset = Br35H(\"/content/TRAIN\", \"/content/TRAIN_ANNOT\", transforms_train)\n",
        "train_loader = DataLoader(traindataset, batch_size=16, shuffle=True)\n",
        "\n",
        "validdataset = Br35H(\"/content/VAL\",\"/content/VAL_ANNOT\",transforms=transforms_valid)\n",
        "valid_loader = DataLoader(validdataset, batch_size=16, shuffle=True)"
      ],
      "metadata": {
        "id": "gnDwc07yqUFx"
      },
      "execution_count": 16,
      "outputs": []
    },
    {
      "cell_type": "code",
      "source": [
        "\"\"\" Parts of the U-Net model \"\"\"\n",
        "\n",
        "import torch\n",
        "import torch.nn as nn\n",
        "import torch.nn.functional as F\n",
        "\n",
        "\n",
        "class DoubleConv(nn.Module):\n",
        "    \"\"\"(convolution => [BN] => ReLU) * 2\"\"\"\n",
        "\n",
        "    def __init__(self, in_channels, out_channels, mid_channels=None):\n",
        "        super().__init__()\n",
        "        if not mid_channels:\n",
        "            mid_channels = out_channels\n",
        "        self.double_conv = nn.Sequential(\n",
        "            nn.Conv2d(in_channels, mid_channels, kernel_size=3, padding=1, bias=False),\n",
        "            nn.BatchNorm2d(mid_channels),\n",
        "            nn.ReLU(inplace=True),\n",
        "            nn.Conv2d(mid_channels, out_channels, kernel_size=3, padding=1, bias=False),\n",
        "            nn.BatchNorm2d(out_channels),\n",
        "            nn.ReLU(inplace=True)\n",
        "        )\n",
        "\n",
        "    def forward(self, x):\n",
        "        return self.double_conv(x)\n",
        "\n",
        "\n",
        "class Down(nn.Module):\n",
        "    \"\"\"Downscaling with maxpool then double conv\"\"\"\n",
        "\n",
        "    def __init__(self, in_channels, out_channels):\n",
        "        super().__init__()\n",
        "        self.maxpool_conv = nn.Sequential(\n",
        "            nn.MaxPool2d(2),\n",
        "            DoubleConv(in_channels, out_channels)\n",
        "        )\n",
        "\n",
        "    def forward(self, x):\n",
        "        return self.maxpool_conv(x)\n",
        "\n",
        "\n",
        "class Up(nn.Module):\n",
        "    \"\"\"Upscaling then double conv\"\"\"\n",
        "\n",
        "    def __init__(self, in_channels, out_channels, bilinear=True):\n",
        "        super().__init__()\n",
        "\n",
        "        # if bilinear, use the normal convolutions to reduce the number of channels\n",
        "        if bilinear:\n",
        "            self.up = nn.Upsample(scale_factor=2, mode='bilinear', align_corners=True)\n",
        "            self.conv = DoubleConv(in_channels, out_channels, in_channels // 2)\n",
        "        else:\n",
        "            self.up = nn.ConvTranspose2d(in_channels, in_channels // 2, kernel_size=2, stride=2)\n",
        "            self.conv = DoubleConv(in_channels, out_channels)\n",
        "\n",
        "    def forward(self, x1, x2):\n",
        "        x1 = self.up(x1)\n",
        "        # input is CHW\n",
        "        diffY = x2.size()[2] - x1.size()[2]\n",
        "        diffX = x2.size()[3] - x1.size()[3]\n",
        "\n",
        "        x1 = F.pad(x1, [diffX // 2, diffX - diffX // 2,\n",
        "                        diffY // 2, diffY - diffY // 2])\n",
        "\n",
        "        x = torch.cat([x2, x1], dim=1)\n",
        "        return self.conv(x)\n",
        "\n",
        "\n",
        "class OutConv(nn.Module):\n",
        "    def __init__(self, in_channels, out_channels):\n",
        "        super(OutConv, self).__init__()\n",
        "        self.conv = nn.Conv2d(in_channels, out_channels, kernel_size=1)\n",
        "\n",
        "    def forward(self, x):\n",
        "        return self.conv(x)"
      ],
      "metadata": {
        "id": "a7OgHoFdLBej"
      },
      "execution_count": 6,
      "outputs": []
    },
    {
      "cell_type": "code",
      "source": [
        "class UNet(nn.Module):\n",
        "    def __init__(self, n_channels, n_classes, bilinear=False):\n",
        "        super(UNet, self).__init__()\n",
        "        self.n_channels = n_channels\n",
        "        self.n_classes = n_classes\n",
        "        self.bilinear = bilinear\n",
        "\n",
        "        self.inc = DoubleConv(n_channels, 64)\n",
        "        self.down1 = Down(64, 128)\n",
        "        self.down2 = Down(128, 256)\n",
        "        self.down3 = Down(256, 512)\n",
        "        factor = 2 if bilinear else 1\n",
        "        self.down4 = Down(512, 1024 // factor)\n",
        "        self.up1 = Up(1024, 512 // factor, bilinear)\n",
        "        self.up2 = Up(512, 256 // factor, bilinear)\n",
        "        self.up3 = Up(256, 128 // factor, bilinear)\n",
        "        self.up4 = Up(128, 64, bilinear)\n",
        "        self.outc = OutConv(64, n_classes)\n",
        "\n",
        "    def forward(self, x):\n",
        "        x1 = self.inc(x)\n",
        "        x2 = self.down1(x1)\n",
        "        x3 = self.down2(x2)\n",
        "        x4 = self.down3(x3)\n",
        "        x5 = self.down4(x4)\n",
        "        x = self.up1(x5, x4)\n",
        "        x = self.up2(x, x3)\n",
        "        x = self.up3(x, x2)\n",
        "        x = self.up4(x, x1)\n",
        "        logits = self.outc(x)\n",
        "       \n",
        "        return logits\n",
        "\n"
      ],
      "metadata": {
        "id": "_GaBRad_LCZr"
      },
      "execution_count": 7,
      "outputs": []
    },
    {
      "cell_type": "code",
      "source": [
        "model = UNet (1,1)"
      ],
      "metadata": {
        "id": "X7Ex-lf-LG8D"
      },
      "execution_count": 46,
      "outputs": []
    },
    {
      "cell_type": "code",
      "source": [
        "device = torch.device(\"cuda:0\" if torch.cuda.is_available() else \"cpu\")\n",
        "model.to(device)"
      ],
      "metadata": {
        "id": "SmxQsNwvLJtY"
      },
      "execution_count": null,
      "outputs": []
    },
    {
      "cell_type": "code",
      "source": [
        "import torch.optim as optim\n",
        "import torch.nn.functional as F\n",
        "\n",
        "optimizer = optim.SGD(model.parameters(), lr=0.0001, momentum=0.9)\n",
        "criterion = nn.BCEWithLogitsLoss()"
      ],
      "metadata": {
        "id": "Z8y9AtAGLPrb"
      },
      "execution_count": 48,
      "outputs": []
    },
    {
      "cell_type": "code",
      "source": [
        "loss_list = []\n",
        "val_loss_list = []\n",
        "accuracy_list = []\n",
        "epochs  = 50"
      ],
      "metadata": {
        "id": "IPprk0VCMZeq"
      },
      "execution_count": 49,
      "outputs": []
    },
    {
      "cell_type": "code",
      "source": [
        "torch.cuda.empty_cache()"
      ],
      "metadata": {
        "id": "9wYT7WHqnAQ9"
      },
      "execution_count": 50,
      "outputs": []
    },
    {
      "cell_type": "code",
      "source": [
        "def binary_acc(y_pred, y_test):\n",
        "   y_pred_tag = torch.round(torch.sigmoid(y_pred))\n",
        "\n",
        "   correct_results_sum = (y_pred_tag == y_test).sum().float()\n",
        "   acc = correct_results_sum/y_test.shape[0]\n",
        "   acc = torch.round(acc * 100)\n",
        "\n",
        "   return acc"
      ],
      "metadata": {
        "id": "3qo2gk9HyOap"
      },
      "execution_count": 43,
      "outputs": []
    },
    {
      "cell_type": "code",
      "source": [
        "for epoch in range (epochs):\n",
        "    \n",
        "    running_loss = 0.0\n",
        "    val_running_loss = 0.0\n",
        "    nb_data = 0.\n",
        "    for i, data in enumerate(train_loader, 0):\n",
        "\n",
        "        inputs, masks = data\n",
        "        optimizer.zero_grad()\n",
        "        inputs, masks = inputs.to(device), masks.to(device)\n",
        "      \n",
        "        outputs = model(inputs)             \n",
        "        \n",
        "        \n",
        "        loss = criterion(outputs, masks)\n",
        "        loss.backward()                    \n",
        "        optimizer.step()                   \n",
        " \n",
        "        \n",
        "        running_loss += loss.item()\n",
        "        \n",
        "        nb_data += 1.\n",
        "        \n",
        "    running_loss = running_loss / nb_data\n",
        "    loss_list.append(running_loss)\n",
        "\n",
        "    correct = 0.\n",
        "    total = 0.\n",
        "    nb_data = 0.\n",
        "    accuracy = 0.\n",
        "    with torch.no_grad():\n",
        "      for data in valid_loader:\n",
        "        input, mask = data\n",
        "        input , mask = input.to(device), mask.to(device)\n",
        "        \n",
        "        output = model(input)\n",
        "        val_loss = criterion(output, mask)\n",
        "\n",
        "        val_running_loss += val_loss.item()\n",
        "        \n",
        "        nb_data += 1.\n",
        "        output =output.squeeze(1)\n",
        "        output[output>0.0] = 1.0\n",
        "        output[output<=0.0] = 0.0\n",
        "\n",
        "        correct = torch.sum(output == mask)\n",
        "\n",
        "        accuracy += correct / (16 * 256 * 256)\n",
        "\n",
        "    accuracy = accuracy / nb_data\n",
        "    accuracy_list.append(accuracy.item())\n",
        "    val_running_loss = val_running_loss / nb_data\n",
        "    val_loss_list.append(val_running_loss)\n",
        "    print(\"Epoch \", epoch, \"; train loss = \", running_loss,\n",
        "           \"val loss = \", val_running_loss, \"; accuracy = \", accuracy.item()\n",
        "          )"
      ],
      "metadata": {
        "id": "bDTrgRX2qxJB",
        "colab": {
          "base_uri": "https://localhost:8080/"
        },
        "outputId": "4e5ec17d-c527-4faf-da0f-ff425a16b281"
      },
      "execution_count": 51,
      "outputs": [
        {
          "output_type": "stream",
          "name": "stdout",
          "text": [
            "Epoch  0 ; train loss =  0.6881609987467527 val loss =  0.6535358291405898 ; accuracy =  9.285252571105957\n",
            "Epoch  1 ; train loss =  0.6234634891152382 val loss =  0.5909177752641531 ; accuracy =  11.155433654785156\n",
            "Epoch  2 ; train loss =  0.5661691632121801 val loss =  0.5391737543619596 ; accuracy =  12.657588958740234\n",
            "Epoch  3 ; train loss =  0.5189398089423776 val loss =  0.4956708802626683 ; accuracy =  13.657561302185059\n",
            "Epoch  4 ; train loss =  0.4802926769480109 val loss =  0.45887897794063276 ; accuracy =  14.108537673950195\n",
            "Epoch  5 ; train loss =  0.44682809617370367 val loss =  0.4285256060270163 ; accuracy =  14.278571128845215\n",
            "Epoch  6 ; train loss =  0.41825858037918806 val loss =  0.40168049702277553 ; accuracy =  14.342257499694824\n",
            "Epoch  7 ; train loss =  0.39363748859614134 val loss =  0.37909417427503145 ; accuracy =  14.37218952178955\n",
            "Epoch  8 ; train loss =  0.3732021376490593 val loss =  0.3589410942334395 ; accuracy =  14.382892608642578\n",
            "Epoch  9 ; train loss =  0.35382229648530483 val loss =  0.3410908602751218 ; accuracy =  14.383122444152832\n",
            "Epoch  10 ; train loss =  0.33819522708654404 val loss =  0.327256094950896 ; accuracy =  14.391490936279297\n",
            "Epoch  11 ; train loss =  0.32377681881189346 val loss =  0.3136368210499103 ; accuracy =  14.394940376281738\n",
            "Epoch  12 ; train loss =  0.3127128453925252 val loss =  0.3024329886986659 ; accuracy =  14.39565372467041\n",
            "Epoch  13 ; train loss =  0.30185481905937195 val loss =  0.2923301893931169 ; accuracy =  14.396821975708008\n",
            "Epoch  14 ; train loss =  0.29191444627940655 val loss =  0.2817014983067146 ; accuracy =  14.386712074279785\n",
            "Epoch  15 ; train loss =  0.28406556136906147 val loss =  0.2741348353716043 ; accuracy =  14.389998435974121\n",
            "Epoch  16 ; train loss =  0.2769812559708953 val loss =  0.2678462335696587 ; accuracy =  14.39712142944336\n",
            "Epoch  17 ; train loss =  0.268689664080739 val loss =  0.2608538854580659 ; accuracy =  14.394681930541992\n",
            "Epoch  18 ; train loss =  0.26360478112474084 val loss =  0.2555558349077518 ; accuracy =  14.395906448364258\n",
            "Epoch  19 ; train loss =  0.25757597340270877 val loss =  0.24963974035703218 ; accuracy =  14.393014907836914\n",
            "Epoch  20 ; train loss =  0.25367978727445006 val loss =  0.24348174494046432 ; accuracy =  14.386021614074707\n",
            "Epoch  21 ; train loss =  0.24879871821030974 val loss =  0.2399829591696079 ; accuracy =  14.389880180358887\n",
            "Epoch  22 ; train loss =  0.24517203494906425 val loss =  0.23680379299017099 ; accuracy =  14.394021987915039\n",
            "Epoch  23 ; train loss =  0.24057593289762735 val loss =  0.2323747265797395 ; accuracy =  14.38981819152832\n",
            "Epoch  24 ; train loss =  0.23743926780298352 val loss =  0.22916090603058153 ; accuracy =  14.391104698181152\n",
            "Epoch  25 ; train loss =  0.23407507268711925 val loss =  0.22493748710705683 ; accuracy =  14.38492488861084\n",
            "Epoch  26 ; train loss =  0.23070363886654377 val loss =  0.22286924719810486 ; accuracy =  14.389371871948242\n",
            "Epoch  27 ; train loss =  0.229083392303437 val loss =  0.22093438643675584 ; accuracy =  14.392592430114746\n",
            "Epoch  28 ; train loss =  0.22626986540853977 val loss =  0.21818323318774885 ; accuracy =  14.390130043029785\n",
            "Epoch  29 ; train loss =  0.22387118497863412 val loss =  0.21585037043461433 ; accuracy =  14.392218589782715\n",
            "Epoch  30 ; train loss =  0.22331875236704946 val loss =  0.21402647288946006 ; accuracy =  14.391264915466309\n",
            "Epoch  31 ; train loss =  0.21915097581222653 val loss =  0.21279806930285233 ; accuracy =  14.393196105957031\n",
            "Epoch  32 ; train loss =  0.21784674609079957 val loss =  0.2107444921365151 ; accuracy =  14.394062042236328\n",
            "Epoch  33 ; train loss =  0.21732924925163388 val loss =  0.20976581825659826 ; accuracy =  14.395787239074707\n",
            "Epoch  34 ; train loss =  0.21515852445736527 val loss =  0.20662755003342262 ; accuracy =  14.390130043029785\n",
            "Epoch  35 ; train loss =  0.21434624027460814 val loss =  0.20487921169170967 ; accuracy =  14.389304161071777\n",
            "Epoch  36 ; train loss =  0.21314815804362297 val loss =  0.20511370782668775 ; accuracy =  14.395801544189453\n",
            "Epoch  37 ; train loss =  0.21200212417170405 val loss =  0.202544330404355 ; accuracy =  14.38890266418457\n",
            "Epoch  38 ; train loss =  0.2098682881332934 val loss =  0.2019007423749337 ; accuracy =  14.392038345336914\n",
            "Epoch  39 ; train loss =  0.20972722535952926 val loss =  0.1998764184805063 ; accuracy =  14.387635231018066\n",
            "Epoch  40 ; train loss =  0.2077175583690405 val loss =  0.19877671966185936 ; accuracy =  14.388411521911621\n",
            "Epoch  41 ; train loss =  0.20561776496469975 val loss =  0.19840812568481153 ; accuracy =  14.391234397888184\n",
            "Epoch  42 ; train loss =  0.2054698928259313 val loss =  0.1971806253378208 ; accuracy =  14.390388488769531\n",
            "Epoch  43 ; train loss =  0.2049767835997045 val loss =  0.1972489242370312 ; accuracy =  14.394885063171387\n",
            "Epoch  44 ; train loss =  0.20364568335935473 val loss =  0.19660020562318656 ; accuracy =  14.39576530456543\n",
            "Epoch  45 ; train loss =  0.2044016313739121 val loss =  0.19481013715267181 ; accuracy =  14.391827583312988\n",
            "Epoch  46 ; train loss =  0.2029332029633224 val loss =  0.19289010419295385 ; accuracy =  14.386839866638184\n",
            "Epoch  47 ; train loss =  0.20303697837516665 val loss =  0.1966616866680292 ; accuracy =  14.403804779052734\n",
            "Epoch  48 ; train loss =  0.20231817802414298 val loss =  0.1927556418455564 ; accuracy =  14.39132022857666\n",
            "Epoch  49 ; train loss =  0.19989723525941372 val loss =  0.19206970013104951 ; accuracy =  14.391133308410645\n"
          ]
        }
      ]
    },
    {
      "cell_type": "code",
      "source": [
        "plt.figure(figsize =(10, 8))\n",
        "plt.plot(loss_list, label=\"train loss\")\n",
        "plt.plot(val_loss_list, label=\"val loss\")"
      ],
      "metadata": {
        "colab": {
          "base_uri": "https://localhost:8080/",
          "height": 501
        },
        "id": "kNqTBqHnWbMN",
        "outputId": "2c39ed47-bfc4-4e03-c163-603ff2de4a7c"
      },
      "execution_count": 53,
      "outputs": [
        {
          "output_type": "execute_result",
          "data": {
            "text/plain": [
              "[<matplotlib.lines.Line2D at 0x7feb91d96b90>]"
            ]
          },
          "metadata": {},
          "execution_count": 53
        },
        {
          "output_type": "display_data",
          "data": {
            "text/plain": [
              "<Figure size 720x576 with 1 Axes>"
            ],
            "image/png": "[encoded data removed]"
          },
          "metadata": {
            "needs_background": "light"
          }
        }
      ]
    },
    {
      "cell_type": "code",
      "source": [
        "import matplotlib.pyplot as plt\n",
        "import numpy as np\n",
        "plt.plot()\n",
        "plt.plot(range(len(accuracy_list)), accuracy_list)\n",
        "\n",
        "plt.xlabel(\"Epochs\")\n",
        "plt.ylabel(\"Accuracy\")\n",
        "plt.title(\"Accuracy curve\")\n",
        "\n",
        "plt.show()"
      ],
      "metadata": {
        "colab": {
          "base_uri": "https://localhost:8080/",
          "height": 295
        },
        "id": "kijEsE-ztEFU",
        "outputId": "119bf312-57aa-4c7e-a1e0-a8f984aca15e"
      },
      "execution_count": 54,
      "outputs": [
        {
          "output_type": "display_data",
          "data": {
            "text/plain": [
              "<Figure size 432x288 with 1 Axes>"
            ],
            "image/png": "[encoded data removed]"
          },
          "metadata": {
            "needs_background": "light"
          }
        }
      ]
    }
  ]
}