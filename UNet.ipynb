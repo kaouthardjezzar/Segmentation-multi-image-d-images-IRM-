{
  "nbformat": 4,
  "nbformat_minor": 0,
  "metadata": {
    "colab": {
      "name": "UNet",
      "provenance": [],
      "collapsed_sections": []
    },
    "kernelspec": {
      "name": "python3",
      "display_name": "Python 3"
    },
    "language_info": {
      "name": "python"
    },
    "accelerator": "GPU"
  },
  "cells": [
    {
      "cell_type": "code",
      "execution_count": 8,
      "metadata": {
        "id": "2ubj2hMpKsxx"
      },
      "outputs": [],
      "source": [
        "import os\n",
        "from PIL import Image\n",
        "import glob\n",
        "\n",
        "from torch.utils.data import Dataset, DataLoader\n",
        "from torch import nn\n",
        "from torchvision import transforms"
      ]
    },
    {
      "cell_type": "code",
      "source": [
        "class Br35H(Dataset):\n",
        "\n",
        "    def read_dataset(self):\n",
        "\n",
        "        images_path = self.images_path\n",
        "        masks_path = self.masks_path\n",
        "        imgs =  glob.glob(images_path + \"/*.jpg\")\n",
        "        masks = glob.glob(masks_path + \"/*.png\")\n",
        "\n",
        "        return imgs, masks, len(imgs)\n",
        "\n",
        "    def __init__(self, images_path,masks_path, transforms=None):\n",
        "        self.images_path = images_path\n",
        "        self.masks_path= masks_path\n",
        "        self.images, self.masks, self.length= self.read_dataset()\n",
        "        self.transforms = transforms\n",
        "\n",
        "    def __getitem__(self, index):\n",
        "        image = Image.open(self.images[index]).convert('L')\n",
        "       # image = image.convert(\"RGB\")\n",
        "        \n",
        "        mask = Image.open(self.masks[index]).convert('L')\n",
        "\n",
        "        #mask = image.convert(\"RGB\")\n",
        "        if self.transforms is not None:\n",
        "            image = self.transforms(image)\n",
        "            mask = self.transforms(mask)\n",
        "            \n",
        "\n",
        "        return image, mask\n",
        "\n",
        "    def __len__(self):\n",
        "        return self.length"
      ],
      "metadata": {
        "id": "Q9uvdeQ7K5fo"
      },
      "execution_count": 9,
      "outputs": []
    },
    {
      "cell_type": "code",
      "source": [
        "transforms_train = transforms.Compose([transforms.Resize((256, 256)),\n",
        "                                      #  transforms.Normalize((0.5, 0.5, 0.5), (0.5, 0.5, 0.5)),\n",
        "                                       transforms.RandomRotation(10.),\n",
        "                                       transforms.ToTensor()])\n",
        "\n",
        "transforms_valid = transforms.Compose([transforms.Resize((256, 256)),\n",
        "                                       transforms.ToTensor()])"
      ],
      "metadata": {
        "id": "OhjIRa5qK7wa"
      },
      "execution_count": 10,
      "outputs": []
    },
    {
      "cell_type": "code",
      "source": [
        "traindataset = Br35H(\"/content/TRAIN\", \"/content/TRAIN_ANNOT\", transforms_train)\n",
        "train_loader = DataLoader(traindataset, batch_size=16, shuffle=True)\n",
        "\n",
        "validdataset = Br35H(\"/content/VAL\",\"/content/VAL_ANNOT\",transforms=transforms_valid)\n",
        "valid_loader = DataLoader(validdataset, batch_size=16, shuffle=True)"
      ],
      "metadata": {
        "id": "gnDwc07yqUFx"
      },
      "execution_count": 11,
      "outputs": []
    },
    {
      "cell_type": "code",
      "source": [
        "\"\"\" Parts of the U-Net model \"\"\"\n",
        "\n",
        "import torch\n",
        "import torch.nn as nn\n",
        "import torch.nn.functional as F\n",
        "\n",
        "\n",
        "class DoubleConv(nn.Module):\n",
        "    \"\"\"(convolution => [BN] => ReLU) * 2\"\"\"\n",
        "\n",
        "    def __init__(self, in_channels, out_channels, mid_channels=None):\n",
        "        super().__init__()\n",
        "        if not mid_channels:\n",
        "            mid_channels = out_channels\n",
        "        self.double_conv = nn.Sequential(\n",
        "            nn.Conv2d(in_channels, mid_channels, kernel_size=3, padding=1, bias=False),\n",
        "            nn.BatchNorm2d(mid_channels),\n",
        "            nn.ReLU(inplace=True),\n",
        "            nn.Conv2d(mid_channels, out_channels, kernel_size=3, padding=1, bias=False),\n",
        "            nn.BatchNorm2d(out_channels),\n",
        "            nn.ReLU(inplace=True)\n",
        "        )\n",
        "\n",
        "    def forward(self, x):\n",
        "        return self.double_conv(x)\n",
        "\n",
        "\n",
        "class Down(nn.Module):\n",
        "    \"\"\"Downscaling with maxpool then double conv\"\"\"\n",
        "\n",
        "    def __init__(self, in_channels, out_channels):\n",
        "        super().__init__()\n",
        "        self.maxpool_conv = nn.Sequential(\n",
        "            nn.MaxPool2d(2),\n",
        "            DoubleConv(in_channels, out_channels)\n",
        "        )\n",
        "\n",
        "    def forward(self, x):\n",
        "        return self.maxpool_conv(x)\n",
        "\n",
        "\n",
        "class Up(nn.Module):\n",
        "    \"\"\"Upscaling then double conv\"\"\"\n",
        "\n",
        "    def __init__(self, in_channels, out_channels, bilinear=True):\n",
        "        super().__init__()\n",
        "\n",
        "        # if bilinear, use the normal convolutions to reduce the number of channels\n",
        "        if bilinear:\n",
        "            self.up = nn.Upsample(scale_factor=2, mode='bilinear', align_corners=True)\n",
        "            self.conv = DoubleConv(in_channels, out_channels, in_channels // 2)\n",
        "        else:\n",
        "            self.up = nn.ConvTranspose2d(in_channels, in_channels // 2, kernel_size=2, stride=2)\n",
        "            self.conv = DoubleConv(in_channels, out_channels)\n",
        "\n",
        "    def forward(self, x1, x2):\n",
        "        x1 = self.up(x1)\n",
        "        # input is CHW\n",
        "        diffY = x2.size()[2] - x1.size()[2]\n",
        "        diffX = x2.size()[3] - x1.size()[3]\n",
        "\n",
        "        x1 = F.pad(x1, [diffX // 2, diffX - diffX // 2,\n",
        "                        diffY // 2, diffY - diffY // 2])\n",
        "\n",
        "        x = torch.cat([x2, x1], dim=1)\n",
        "        return self.conv(x)\n",
        "\n",
        "\n",
        "class OutConv(nn.Module):\n",
        "    def __init__(self, in_channels, out_channels):\n",
        "        super(OutConv, self).__init__()\n",
        "        self.conv = nn.Conv2d(in_channels, out_channels, kernel_size=1)\n",
        "\n",
        "    def forward(self, x):\n",
        "        return self.conv(x)"
      ],
      "metadata": {
        "id": "a7OgHoFdLBej"
      },
      "execution_count": 12,
      "outputs": []
    },
    {
      "cell_type": "code",
      "source": [
        "class UNet(nn.Module):\n",
        "    def __init__(self, n_channels, n_classes, bilinear=False):\n",
        "        super(UNet, self).__init__()\n",
        "        self.n_channels = n_channels\n",
        "        self.n_classes = n_classes\n",
        "        self.bilinear = bilinear\n",
        "\n",
        "        self.inc = DoubleConv(n_channels, 64)\n",
        "        self.down1 = Down(64, 128)\n",
        "        self.down2 = Down(128, 256)\n",
        "        self.down3 = Down(256, 512)\n",
        "        factor = 2 if bilinear else 1\n",
        "        self.down4 = Down(512, 1024 // factor)\n",
        "        self.up1 = Up(1024, 512 // factor, bilinear)\n",
        "        self.up2 = Up(512, 256 // factor, bilinear)\n",
        "        self.up3 = Up(256, 128 // factor, bilinear)\n",
        "        self.up4 = Up(128, 64, bilinear)\n",
        "        self.outc = OutConv(64, n_classes)\n",
        "\n",
        "    def forward(self, x):\n",
        "        x1 = self.inc(x)\n",
        "        x2 = self.down1(x1)\n",
        "        x3 = self.down2(x2)\n",
        "        x4 = self.down3(x3)\n",
        "        x5 = self.down4(x4)\n",
        "        x = self.up1(x5, x4)\n",
        "        x = self.up2(x, x3)\n",
        "        x = self.up3(x, x2)\n",
        "        x = self.up4(x, x1)\n",
        "        logits = self.outc(x)\n",
        "       \n",
        "        return logits\n",
        "\n"
      ],
      "metadata": {
        "id": "_GaBRad_LCZr"
      },
      "execution_count": 13,
      "outputs": []
    },
    {
      "cell_type": "code",
      "source": [
        "model = UNet (1,1)"
      ],
      "metadata": {
        "id": "X7Ex-lf-LG8D"
      },
      "execution_count": 41,
      "outputs": []
    },
    {
      "cell_type": "code",
      "source": [
        "device = torch.device(\"cuda:0\" if torch.cuda.is_available() else \"cpu\")\n",
        "model.to(device)"
      ],
      "metadata": {
        "id": "SmxQsNwvLJtY"
      },
      "execution_count": null,
      "outputs": []
    },
    {
      "cell_type": "code",
      "source": [
        "import torch.optim as optim\n",
        "import torch.nn.functional as F\n",
        "\n",
        "optimizer = optim.SGD(model.parameters(), lr=0.0001, momentum=0.9)\n",
        "criterion = nn.BCEWithLogitsLoss()"
      ],
      "metadata": {
        "id": "Z8y9AtAGLPrb"
      },
      "execution_count": 43,
      "outputs": []
    },
    {
      "cell_type": "code",
      "source": [
        "loss_list = []\n",
        "val_loss_list = []\n",
        "accuracy_list = []\n",
        "epochs  = 50"
      ],
      "metadata": {
        "id": "IPprk0VCMZeq"
      },
      "execution_count": 44,
      "outputs": []
    },
    {
      "cell_type": "code",
      "source": [
        "torch.cuda.empty_cache()"
      ],
      "metadata": {
        "id": "9wYT7WHqnAQ9"
      },
      "execution_count": 45,
      "outputs": []
    },
    {
      "cell_type": "code",
      "source": [
        "for epoch in range (epochs):\n",
        "    \n",
        "    running_loss = 0.0\n",
        "    val_running_loss = 0.0\n",
        "    nb_data = 0.\n",
        "    for i, data in enumerate(train_loader, 0):\n",
        "\n",
        "        inputs, masks = data\n",
        "        optimizer.zero_grad()\n",
        "        inputs, masks = inputs.to(device), masks.to(device)\n",
        "      \n",
        "        outputs = model(inputs)             \n",
        "        \n",
        "        \n",
        "        loss = criterion(outputs, masks)\n",
        "        loss.backward()                    \n",
        "        optimizer.step()                   \n",
        " \n",
        "        \n",
        "        running_loss += loss.item()\n",
        "        \n",
        "        nb_data += 1.\n",
        "        \n",
        "    running_loss = running_loss / nb_data\n",
        "    loss_list.append(running_loss)\n",
        "\n",
        "    correct = 0.\n",
        "    total = 0.\n",
        "    nb_data = 0.\n",
        "    accuracy = 0.\n",
        "    with torch.no_grad():\n",
        "      for data in valid_loader:\n",
        "        input, mask = data\n",
        "        input , mask = input.to(device), mask.to(device)\n",
        "        \n",
        "        output = model(input)\n",
        "        val_loss = criterion(output, mask)\n",
        "\n",
        "        val_running_loss += val_loss.item()\n",
        "        \n",
        "        nb_data += 1.\n",
        "        output =torch.sigmoid(output)\n",
        "        output[output>0.5] = 1.0\n",
        "        output[output<=0.5] = 0.0\n",
        "\n",
        "        correct = torch.sum(output == mask)\n",
        "\n",
        "        accuracy += correct / (16*256*256)\n",
        "        \n",
        "    accuracy = accuracy / nb_data  \n",
        "    accuracy_list.append(accuracy.item())\n",
        "    val_running_loss = val_running_loss / nb_data\n",
        "    val_loss_list.append(val_running_loss)\n",
        "    print(\"Epoch \", epoch, \"; train loss = \", running_loss,\n",
        "           \"val loss = \", val_running_loss, \"; accuracy = \", accuracy.item()\n",
        "          )"
      ],
      "metadata": {
        "colab": {
          "base_uri": "https://localhost:8080/"
        },
        "id": "8RjMJIONXDuW",
        "outputId": "e7b11539-881a-4b87-db82-0430ea9a27b0"
      },
      "execution_count": 46,
      "outputs": [
        {
          "output_type": "stream",
          "name": "stdout",
          "text": [
            "Epoch  0 ; train loss =  0.5755753349512815 val loss =  0.5482311844825745 ; accuracy =  0.8747064471244812\n",
            "Epoch  1 ; train loss =  0.5274980459362268 val loss =  0.5017166091845586 ; accuracy =  0.8955134153366089\n",
            "Epoch  2 ; train loss =  0.48531227372586727 val loss =  0.46283339766355663 ; accuracy =  0.9068604707717896\n",
            "Epoch  3 ; train loss =  0.450115748681128 val loss =  0.42993699128811175 ; accuracy =  0.9125603437423706\n",
            "Epoch  4 ; train loss =  0.419830578379333 val loss =  0.4024457771044511 ; accuracy =  0.9151738286018372\n",
            "Epoch  5 ; train loss =  0.3946026377379894 val loss =  0.3788218773328341 ; accuracy =  0.9163579344749451\n",
            "Epoch  6 ; train loss =  0.3732974836602807 val loss =  0.3582079043755165 ; accuracy =  0.916911244392395\n",
            "Epoch  7 ; train loss =  0.35388786531984806 val loss =  0.3410291923926427 ; accuracy =  0.9171788692474365\n",
            "Epoch  8 ; train loss =  0.3371275532990694 val loss =  0.32466382475999683 ; accuracy =  0.9173101782798767\n",
            "Epoch  9 ; train loss =  0.3231827411800623 val loss =  0.3118493144328778 ; accuracy =  0.9173668622970581\n",
            "Epoch  10 ; train loss =  0.3109024902805686 val loss =  0.3004127282362718 ; accuracy =  0.9173926711082458\n",
            "Epoch  11 ; train loss =  0.29897747561335564 val loss =  0.2897315506751721 ; accuracy =  0.9174061417579651\n",
            "Epoch  12 ; train loss =  0.2894226796925068 val loss =  0.27996838322052586 ; accuracy =  0.9174111485481262\n",
            "Epoch  13 ; train loss =  0.28047253796830773 val loss =  0.2716368161714994 ; accuracy =  0.9174138903617859\n",
            "Epoch  14 ; train loss =  0.2740748943760991 val loss =  0.26546634848301226 ; accuracy =  0.9174150824546814\n",
            "Epoch  15 ; train loss =  0.26714323926717043 val loss =  0.25826113384503585 ; accuracy =  0.9174154996871948\n",
            "Epoch  16 ; train loss =  0.26180697744712234 val loss =  0.2521755454631952 ; accuracy =  0.9174156785011292\n",
            "Epoch  17 ; train loss =  0.25622552866116166 val loss =  0.24852853211072776 ; accuracy =  0.9174160361289978\n",
            "Epoch  18 ; train loss =  0.2518270518630743 val loss =  0.2420342220709874 ; accuracy =  0.9174160957336426\n",
            "Epoch  19 ; train loss =  0.24679784011095762 val loss =  0.23739638809974378 ; accuracy =  0.9174160957336426\n",
            "Epoch  20 ; train loss =  0.2438750988803804 val loss =  0.23406323790550232 ; accuracy =  0.9174160957336426\n",
            "Epoch  21 ; train loss =  0.23898054054006934 val loss =  0.2300985065790323 ; accuracy =  0.9174160957336426\n",
            "Epoch  22 ; train loss =  0.2357221725396812 val loss =  0.2265712469816208 ; accuracy =  0.9174160957336426\n",
            "Epoch  23 ; train loss =  0.23202025005593896 val loss =  0.22437372001317832 ; accuracy =  0.9174160957336426\n",
            "Epoch  24 ; train loss =  0.2298982823267579 val loss =  0.22209372543371642 ; accuracy =  0.9174160957336426\n",
            "Epoch  25 ; train loss =  0.22705579409375787 val loss =  0.21896438873731172 ; accuracy =  0.9174160957336426\n",
            "Epoch  26 ; train loss =  0.22550627030432224 val loss =  0.21768926771787497 ; accuracy =  0.9174160957336426\n",
            "Epoch  27 ; train loss =  0.2224150407128036 val loss =  0.215239642904355 ; accuracy =  0.9174160957336426\n",
            "Epoch  28 ; train loss =  0.2217640238814056 val loss =  0.21191496000840113 ; accuracy =  0.9174160957336426\n",
            "Epoch  29 ; train loss =  0.21851141937077045 val loss =  0.2111606907386046 ; accuracy =  0.9174160957336426\n",
            "Epoch  30 ; train loss =  0.21758290380239487 val loss =  0.20890571406254402 ; accuracy =  0.9174160957336426\n",
            "Epoch  31 ; train loss =  0.21625551115721464 val loss =  0.20633869560865256 ; accuracy =  0.9174160957336426\n",
            "Epoch  32 ; train loss =  0.2138512753881514 val loss =  0.2049145526610888 ; accuracy =  0.9174160957336426\n",
            "Epoch  33 ; train loss =  0.21384610515087843 val loss =  0.20545632334855887 ; accuracy =  0.9174160957336426\n",
            "Epoch  34 ; train loss =  0.2113239299505949 val loss =  0.20332248852803156 ; accuracy =  0.9174160957336426\n",
            "Epoch  35 ; train loss =  0.21016074623912573 val loss =  0.20199725719598624 ; accuracy =  0.9174160957336426\n",
            "Epoch  36 ; train loss =  0.20909459749236703 val loss =  0.19974785240796897 ; accuracy =  0.9174160957336426\n",
            "Epoch  37 ; train loss =  0.2076490893959999 val loss =  0.19924931572033808 ; accuracy =  0.9174160957336426\n",
            "Epoch  38 ; train loss =  0.20811291737481952 val loss =  0.19772059871600225 ; accuracy =  0.9174160957336426\n",
            "Epoch  39 ; train loss =  0.20606595650315285 val loss =  0.19721047350993523 ; accuracy =  0.9174160957336426\n",
            "Epoch  40 ; train loss =  0.204903163947165 val loss =  0.19510765373706818 ; accuracy =  0.9174160957336426\n",
            "Epoch  41 ; train loss =  0.20456332433968782 val loss =  0.19435597726931939 ; accuracy =  0.9174160957336426\n",
            "Epoch  42 ; train loss =  0.2035955679602921 val loss =  0.19418067771654862 ; accuracy =  0.9174160957336426\n",
            "Epoch  43 ; train loss =  0.20201524812728167 val loss =  0.19418604098833525 ; accuracy =  0.9174160957336426\n",
            "Epoch  44 ; train loss =  0.2023161668330431 val loss =  0.19266025263529557 ; accuracy =  0.9174160957336426\n",
            "Epoch  45 ; train loss =  0.20119289215654135 val loss =  0.19235128508164331 ; accuracy =  0.9174160957336426\n",
            "Epoch  46 ; train loss =  0.20124894566833973 val loss =  0.19200518956551185 ; accuracy =  0.9174160957336426\n",
            "Epoch  47 ; train loss =  0.20050191041082144 val loss =  0.19053050531790808 ; accuracy =  0.9174160957336426\n",
            "Epoch  48 ; train loss =  0.19907234143465757 val loss =  0.18899153402218452 ; accuracy =  0.9174160957336426\n",
            "Epoch  49 ; train loss =  0.19920713268220425 val loss =  0.18985572801186487 ; accuracy =  0.9174160957336426\n"
          ]
        }
      ]
    },
    {
      "cell_type": "code",
      "source": [
        "import matplotlib.pyplot as plt\n",
        "import numpy as np\n",
        "plt.plot()\n",
        "plt.plot(range(len(accuracy_list)), accuracy_list)\n",
        "\n",
        "plt.xlabel(\"Epochs\")\n",
        "plt.ylabel(\"Accuracy\")\n",
        "plt.title(\"Accuracy curve\")\n",
        "\n",
        "plt.show()"
      ],
      "metadata": {
        "colab": {
          "base_uri": "https://localhost:8080/",
          "height": 295
        },
        "id": "kijEsE-ztEFU",
        "outputId": "97b36a01-6a9c-4661-81a7-781c3a884990"
      },
      "execution_count": 48,
      "outputs": [
        {
          "output_type": "display_data",
          "data": {
            "text/plain": [
              "<Figure size 432x288 with 1 Axes>"
            ],
            "image/png": "[encoded data removed]"
          },
          "metadata": {
            "needs_background": "light"
          }
        }
      ]
    },
    {
      "cell_type": "code",
      "source": [
        "plt.figure(figsize =(10, 8))\n",
        "plt.plot(loss_list, label=\"train loss\")\n",
        "plt.plot(val_loss_list, label=\"val loss\")"
      ],
      "metadata": {
        "colab": {
          "base_uri": "https://localhost:8080/",
          "height": 501
        },
        "id": "kNqTBqHnWbMN",
        "outputId": "cd330cbe-72f6-43ed-8a20-5d1e35ff9c9b"
      },
      "execution_count": 49,
      "outputs": [
        {
          "output_type": "execute_result",
          "data": {
            "text/plain": [
              "[<matplotlib.lines.Line2D at 0x7f572e25b6d0>]"
            ]
          },
          "metadata": {},
          "execution_count": 49
        },
        {
          "output_type": "display_data",
          "data": {
            "text/plain": [
              "<Figure size 720x576 with 1 Axes>"
            ],
            "image/png": "[encoded data removed]"
          },
          "metadata": {
            "needs_background": "light"
          }
        }
      ]
    }
  ]
}