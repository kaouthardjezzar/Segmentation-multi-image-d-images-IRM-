{
  "nbformat": 4,
  "nbformat_minor": 0,
  "metadata": {
    "colab": {
      "name": "UNet",
      "provenance": [],
      "collapsed_sections": []
    },
    "kernelspec": {
      "name": "python3",
      "display_name": "Python 3"
    },
    "language_info": {
      "name": "python"
    },
    "accelerator": "GPU"
  },
  "cells": [
    {
      "cell_type": "code",
      "source": [
        "import torch"
      ],
      "metadata": {
        "id": "9RUzR2CAL0jF"
      },
      "execution_count": 1,
      "outputs": []
    },
    {
      "cell_type": "code",
      "execution_count": 2,
      "metadata": {
        "id": "2ubj2hMpKsxx"
      },
      "outputs": [],
      "source": [
        "import os\n",
        "from PIL import Image\n",
        "import glob\n",
        "\n",
        "from torch.utils.data import Dataset, DataLoader\n",
        "from torch import nn\n",
        "from torchvision import transforms"
      ]
    },
    {
      "cell_type": "code",
      "source": [
        "class Br35H(Dataset):\n",
        "\n",
        "    def read_dataset(self):\n",
        "\n",
        "        images_path = self.images_path\n",
        "        masks_path = self.masks_path\n",
        "        imgs =  glob.glob(images_path + \"/*.jpg\")\n",
        "        masks = glob.glob(masks_path + \"/*.png\")\n",
        "\n",
        "        return imgs, masks, len(imgs)\n",
        "\n",
        "    def __init__(self, images_path,masks_path, transforms=None):\n",
        "        self.images_path = images_path\n",
        "        self.masks_path= masks_path\n",
        "        self.images, self.masks, self.length= self.read_dataset()\n",
        "        self.transforms = transforms\n",
        "\n",
        "    def __getitem__(self, index):\n",
        "        image = Image.open(self.images[index])\n",
        "        image = image.convert(\"RGB\")\n",
        "        \n",
        "        mask = Image.open(self.masks[index]).convert('L')\n",
        "\n",
        "        #mask = image.convert(\"RGB\")\n",
        "        if self.transforms is not None:\n",
        "            image = self.transforms(image)\n",
        "            mask = self.transforms(mask)\n",
        "            \n",
        "\n",
        "        return image, mask\n",
        "\n",
        "    def __len__(self):\n",
        "        return self.length"
      ],
      "metadata": {
        "id": "Q9uvdeQ7K5fo"
      },
      "execution_count": 3,
      "outputs": []
    },
    {
      "cell_type": "code",
      "source": [
        "transforms_train = transforms.Compose([transforms.Resize((256, 256)),\n",
        "                                      #  transforms.Normalize((0.5, 0.5, 0.5), (0.5, 0.5, 0.5)),\n",
        "                                       transforms.RandomRotation(10.),\n",
        "                                       transforms.ToTensor()])\n",
        "\n",
        "transforms_valid = transforms.Compose([transforms.Resize((256, 256)),\n",
        "                                       transforms.ToTensor()])"
      ],
      "metadata": {
        "id": "OhjIRa5qK7wa"
      },
      "execution_count": 4,
      "outputs": []
    },
    {
      "cell_type": "code",
      "source": [
        "train_dataset = Br35H(cfg.TRAIN_IMAGE_PATH, cfg.TRAIN_ANNOT_DIR, transforms_train)\n",
        "trainloader = DataLoader(train_dataset, batch_size=16, shuffle=True)\n",
        "\n",
        "valid_dataset = Br35H(cfg.VAL_IMAGE_PATH,cfg.VAL_ANNOT_DIR,transforms=transforms_valid)\n",
        "validloader = DataLoader(valid_dataset, batch_size=16, shuffle=True)"
      ],
      "metadata": {
        "id": "RHq0llnJK8cK"
      },
      "execution_count": 5,
      "outputs": []
    },
    {
      "cell_type": "code",
      "source": [
        "\"\"\" Parts of the U-Net model \"\"\"\n",
        "\n",
        "import torch\n",
        "import torch.nn as nn\n",
        "import torch.nn.functional as F\n",
        "\n",
        "\n",
        "class DoubleConv(nn.Module):\n",
        "    \"\"\"(convolution => [BN] => ReLU) * 2\"\"\"\n",
        "\n",
        "    def __init__(self, in_channels, out_channels, mid_channels=None):\n",
        "        super().__init__()\n",
        "        if not mid_channels:\n",
        "            mid_channels = out_channels\n",
        "        self.double_conv = nn.Sequential(\n",
        "            nn.Conv2d(in_channels, mid_channels, kernel_size=3, padding=1, bias=False),\n",
        "            nn.BatchNorm2d(mid_channels),\n",
        "            nn.ReLU(inplace=True),\n",
        "            nn.Conv2d(mid_channels, out_channels, kernel_size=3, padding=1, bias=False),\n",
        "            nn.BatchNorm2d(out_channels),\n",
        "            nn.ReLU(inplace=True)\n",
        "        )\n",
        "\n",
        "    def forward(self, x):\n",
        "        return self.double_conv(x)\n",
        "\n",
        "\n",
        "class Down(nn.Module):\n",
        "    \"\"\"Downscaling with maxpool then double conv\"\"\"\n",
        "\n",
        "    def __init__(self, in_channels, out_channels):\n",
        "        super().__init__()\n",
        "        self.maxpool_conv = nn.Sequential(\n",
        "            nn.MaxPool2d(2),\n",
        "            DoubleConv(in_channels, out_channels)\n",
        "        )\n",
        "\n",
        "    def forward(self, x):\n",
        "        return self.maxpool_conv(x)\n",
        "\n",
        "\n",
        "class Up(nn.Module):\n",
        "    \"\"\"Upscaling then double conv\"\"\"\n",
        "\n",
        "    def __init__(self, in_channels, out_channels, bilinear=True):\n",
        "        super().__init__()\n",
        "\n",
        "        # if bilinear, use the normal convolutions to reduce the number of channels\n",
        "        if bilinear:\n",
        "            self.up = nn.Upsample(scale_factor=2, mode='bilinear', align_corners=True)\n",
        "            self.conv = DoubleConv(in_channels, out_channels, in_channels // 2)\n",
        "        else:\n",
        "            self.up = nn.ConvTranspose2d(in_channels, in_channels // 2, kernel_size=2, stride=2)\n",
        "            self.conv = DoubleConv(in_channels, out_channels)\n",
        "\n",
        "    def forward(self, x1, x2):\n",
        "        x1 = self.up(x1)\n",
        "        # input is CHW\n",
        "        diffY = x2.size()[2] - x1.size()[2]\n",
        "        diffX = x2.size()[3] - x1.size()[3]\n",
        "\n",
        "        x1 = F.pad(x1, [diffX // 2, diffX - diffX // 2,\n",
        "                        diffY // 2, diffY - diffY // 2])\n",
        "\n",
        "        x = torch.cat([x2, x1], dim=1)\n",
        "        return self.conv(x)\n",
        "\n",
        "\n",
        "class OutConv(nn.Module):\n",
        "    def __init__(self, in_channels, out_channels):\n",
        "        super(OutConv, self).__init__()\n",
        "        self.conv = nn.Conv2d(in_channels, out_channels, kernel_size=1)\n",
        "\n",
        "    def forward(self, x):\n",
        "        return self.conv(x)"
      ],
      "metadata": {
        "id": "a7OgHoFdLBej"
      },
      "execution_count": 7,
      "outputs": []
    },
    {
      "cell_type": "code",
      "source": [
        "class UNet(nn.Module):\n",
        "    def __init__(self, n_channels, n_classes, bilinear=False):\n",
        "        super(UNet, self).__init__()\n",
        "        self.n_channels = n_channels\n",
        "        self.n_classes = n_classes\n",
        "        self.bilinear = bilinear\n",
        "\n",
        "        self.inc = DoubleConv(n_channels, 64)\n",
        "        self.down1 = Down(64, 128)\n",
        "        self.down2 = Down(128, 256)\n",
        "        self.down3 = Down(256, 512)\n",
        "        factor = 2 if bilinear else 1\n",
        "        self.down4 = Down(512, 1024 // factor)\n",
        "        self.up1 = Up(1024, 512 // factor, bilinear)\n",
        "        self.up2 = Up(512, 256 // factor, bilinear)\n",
        "        self.up3 = Up(256, 128 // factor, bilinear)\n",
        "        self.up4 = Up(128, 64, bilinear)\n",
        "        self.outc = OutConv(64, n_classes)\n",
        "\n",
        "    def forward(self, x):\n",
        "        x1 = self.inc(x)\n",
        "        x2 = self.down1(x1)\n",
        "        x3 = self.down2(x2)\n",
        "        x4 = self.down3(x3)\n",
        "        x5 = self.down4(x4)\n",
        "        x = self.up1(x5, x4)\n",
        "        x = self.up2(x, x3)\n",
        "        x = self.up3(x, x2)\n",
        "        x = self.up4(x, x1)\n",
        "        logits = self.outc(x)\n",
        "       \n",
        "        return logits\n",
        "\n"
      ],
      "metadata": {
        "id": "_GaBRad_LCZr"
      },
      "execution_count": 8,
      "outputs": []
    },
    {
      "cell_type": "code",
      "source": [
        "model = UNet (3,1)"
      ],
      "metadata": {
        "id": "X7Ex-lf-LG8D"
      },
      "execution_count": 9,
      "outputs": []
    },
    {
      "cell_type": "code",
      "source": [
        "device = torch.device(\"cuda:0\" if torch.cuda.is_available() else \"cpu\")\n",
        "model.to(device)"
      ],
      "metadata": {
        "id": "SmxQsNwvLJtY"
      },
      "execution_count": null,
      "outputs": []
    },
    {
      "cell_type": "code",
      "source": [
        "import torch.optim as optim\n",
        "import torch.nn.functional as F\n",
        "\n",
        "optimizer = optim.SGD(model.parameters(), lr=0.001, momentum=0.9)\n",
        "criterion = nn.BCEWithLogitsLoss()"
      ],
      "metadata": {
        "id": "Z8y9AtAGLPrb"
      },
      "execution_count": 11,
      "outputs": []
    },
    {
      "cell_type": "code",
      "source": [
        "loss_list = []\n",
        "accuracy_list = []"
      ],
      "metadata": {
        "id": "IPprk0VCMZeq"
      },
      "execution_count": 12,
      "outputs": []
    },
    {
      "cell_type": "code",
      "source": [
        "torch.cuda.empty_cache()"
      ],
      "metadata": {
        "id": "9wYT7WHqnAQ9"
      },
      "execution_count": 13,
      "outputs": []
    },
    {
      "cell_type": "code",
      "source": [
        "def binary_acc(y_pred, y_test):\n",
        "   y_pred_tag = torch.round(torch.sigmoid(y_pred))\n",
        "\n",
        "   correct_results_sum = (y_pred_tag == y_test).sum().float()\n",
        "   acc = correct_results_sum/y_test.shape[0]\n",
        "   acc = torch.round(acc * 100)\n",
        "\n",
        "   return acc"
      ],
      "metadata": {
        "id": "3qo2gk9HyOap"
      },
      "execution_count": 14,
      "outputs": []
    },
    {
      "cell_type": "code",
      "source": [
        "for epoch in range (20):\n",
        "    \n",
        "    running_loss = 0.0\n",
        "    nb_data = 0.\n",
        "    for i, data in enumerate(trainloader, 0):\n",
        "\n",
        "        inputs, masks = data\n",
        "        optimizer.zero_grad()\n",
        "        inputs, masks = inputs.to(device), masks.to(device)\n",
        "      \n",
        "        outputs = model(inputs)             \n",
        "        \n",
        "        \n",
        "        loss = criterion(outputs, masks)\n",
        "        loss.backward()                    \n",
        "        optimizer.step()                   \n",
        " \n",
        "        \n",
        "        running_loss += loss.item()\n",
        "        \n",
        "        nb_data += 1.\n",
        "        \n",
        "    running_loss = running_loss / nb_data\n",
        "    loss_list.append(running_loss)\n",
        "\n",
        "    correct = 0.\n",
        "    total = 0.\n",
        "\n",
        " \n",
        "    \n",
        "    print(\"Epoch \", epoch, \"; train loss = \", running_loss\n",
        "          \n",
        "          )"
      ],
      "metadata": {
        "colab": {
          "base_uri": "https://localhost:8080/"
        },
        "id": "DXiSMPrVLU27",
        "outputId": "7623f3e7-1b9b-4c5f-9086-5489df381da1"
      },
      "execution_count": 15,
      "outputs": [
        {
          "output_type": "stream",
          "name": "stdout",
          "text": [
            "Epoch  0 ; train loss =  0.2384042337536812\n",
            "Epoch  1 ; train loss =  0.18301856661587954\n",
            "Epoch  2 ; train loss =  0.180567003428936\n",
            "Epoch  3 ; train loss =  0.17917705644667148\n",
            "Epoch  4 ; train loss =  0.17834585969895125\n",
            "Epoch  5 ; train loss =  0.17779272198677062\n",
            "Epoch  6 ; train loss =  0.17657354431599379\n",
            "Epoch  7 ; train loss =  0.175581097997725\n",
            "Epoch  8 ; train loss =  0.17472890056669713\n",
            "Epoch  9 ; train loss =  0.17428339894115924\n",
            "Epoch  10 ; train loss =  0.1733972232416272\n",
            "Epoch  11 ; train loss =  0.172507582873106\n",
            "Epoch  12 ; train loss =  0.17172085232287645\n",
            "Epoch  13 ; train loss =  0.1716382447257638\n",
            "Epoch  14 ; train loss =  0.17050435692071914\n",
            "Epoch  15 ; train loss =  0.1699250363484025\n",
            "Epoch  16 ; train loss =  0.16916833809763193\n",
            "Epoch  17 ; train loss =  0.168451658166945\n",
            "Epoch  18 ; train loss =  0.16736729235202075\n",
            "Epoch  19 ; train loss =  0.1669541872292757\n"
          ]
        }
      ]
    },
    {
      "cell_type": "code",
      "source": [
        "import matplotlib.pyplot as plt\n",
        "import numpy as np\n",
        "plt.plot()\n",
        "plt.plot(range(len(loss_list)), loss_list)\n",
        "\n",
        "plt.xlabel(\"Epochs\")\n",
        "plt.ylabel(\"Loss\")\n",
        "plt.title(\"loss curve\")\n",
        "\n",
        "plt.show()"
      ],
      "metadata": {
        "colab": {
          "base_uri": "https://localhost:8080/",
          "height": 295
        },
        "id": "kijEsE-ztEFU",
        "outputId": "dce79c5d-04c7-4f00-b56c-df2d602203c3"
      },
      "execution_count": 16,
      "outputs": [
        {
          "output_type": "display_data",
          "data": {
            "text/plain": [
              "<Figure size 432x288 with 1 Axes>"
            ],
            "image/png": "[encoded data removed]"
          },
          "metadata": {
            "needs_background": "light"
          }
        }
      ]
    }
  ]
}