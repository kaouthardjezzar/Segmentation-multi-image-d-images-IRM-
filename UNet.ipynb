{
  "nbformat": 4,
  "nbformat_minor": 0,
  "metadata": {
    "colab": {
      "name": "UNet",
      "provenance": [],
      "collapsed_sections": []
    },
    "kernelspec": {
      "name": "python3",
      "display_name": "Python 3"
    },
    "language_info": {
      "name": "python"
    },
    "accelerator": "GPU"
  },
  "cells": [
    {
      "cell_type": "code",
      "execution_count": null,
      "metadata": {
        "id": "2ubj2hMpKsxx"
      },
      "outputs": [],
      "source": [
        "import os\n",
        "from PIL import Image\n",
        "import glob\n",
        "\n",
        "from torch.utils.data import Dataset, DataLoader\n",
        "from torch import nn\n",
        "from torchvision import transforms"
      ]
    },
    {
      "cell_type": "code",
      "source": [
        "class Br35H(Dataset):\n",
        "\n",
        "    def read_dataset(self):\n",
        "\n",
        "        images_path = self.images_path\n",
        "        masks_path = self.masks_path\n",
        "        imgs =  glob.glob(images_path + \"/*.jpg\")\n",
        "        masks = glob.glob(masks_path + \"/*.png\")\n",
        "\n",
        "        return imgs, masks, len(imgs)\n",
        "\n",
        "    def __init__(self, images_path,masks_path, transforms=None):\n",
        "        self.images_path = images_path\n",
        "        self.masks_path= masks_path\n",
        "        self.images, self.masks, self.length= self.read_dataset()\n",
        "        self.transforms = transforms\n",
        "\n",
        "    def __getitem__(self, index):\n",
        "        image = Image.open(self.images[index]).convert('L')\n",
        "       # image = image.convert(\"RGB\")\n",
        "        \n",
        "        mask = Image.open(self.masks[index]).convert('L')\n",
        "\n",
        "        #mask = image.convert(\"RGB\")\n",
        "        if self.transforms is not None:\n",
        "            image = self.transforms(image)\n",
        "            mask = self.transforms(mask)\n",
        "            \n",
        "\n",
        "        return image, mask\n",
        "\n",
        "    def __len__(self):\n",
        "        return self.length"
      ],
      "metadata": {
        "id": "Q9uvdeQ7K5fo"
      },
      "execution_count": null,
      "outputs": []
    },
    {
      "cell_type": "code",
      "source": [
        "transforms_train = transforms.Compose([transforms.Resize((256, 256)),\n",
        "                                      #  transforms.Normalize((0.5, 0.5, 0.5), (0.5, 0.5, 0.5)),\n",
        "                                       transforms.RandomRotation(10.),\n",
        "                                       transforms.ToTensor()])\n",
        "\n",
        "transforms_valid = transforms.Compose([transforms.Resize((256, 256)),\n",
        "                                       transforms.ToTensor()])"
      ],
      "metadata": {
        "id": "OhjIRa5qK7wa"
      },
      "execution_count": null,
      "outputs": []
    },
    {
      "cell_type": "code",
      "source": [
        "traindataset = Br35H(\"/content/TRAIN\", \"/content/TRAIN_ANNOT\", transforms_train)\n",
        "train_loader = DataLoader(traindataset, batch_size=16, shuffle=True)\n",
        "\n",
        "validdataset = Br35H(\"/content/VAL\",\"/content/VAL_ANNOT\",transforms=transforms_valid)\n",
        "valid_loader = DataLoader(validdataset, batch_size=16, shuffle=True)"
      ],
      "metadata": {
        "id": "gnDwc07yqUFx"
      },
      "execution_count": null,
      "outputs": []
    },
    {
      "cell_type": "code",
      "source": [
        "testdataset = Br35H(\"/content/TEST\",\"/content/TEST_ANNOT\",transforms=transforms_valid)\n",
        "test_loader = DataLoader(testdataset, batch_size=1, shuffle=True)"
      ],
      "metadata": {
        "id": "qYsYDmslZH3G"
      },
      "execution_count": 58,
      "outputs": []
    },
    {
      "cell_type": "code",
      "source": [
        "\"\"\" Parts of the U-Net model \"\"\"\n",
        "\n",
        "import torch\n",
        "import torch.nn as nn\n",
        "import torch.nn.functional as F\n",
        "\n",
        "\n",
        "class DoubleConv(nn.Module):\n",
        "    \"\"\"(convolution => [BN] => ReLU) * 2\"\"\"\n",
        "\n",
        "    def __init__(self, in_channels, out_channels, mid_channels=None):\n",
        "        super().__init__()\n",
        "        if not mid_channels:\n",
        "            mid_channels = out_channels\n",
        "        self.double_conv = nn.Sequential(\n",
        "            nn.Conv2d(in_channels, mid_channels, kernel_size=3, padding=1, bias=False),\n",
        "            nn.BatchNorm2d(mid_channels),\n",
        "            nn.ReLU(inplace=True),\n",
        "            nn.Conv2d(mid_channels, out_channels, kernel_size=3, padding=1, bias=False),\n",
        "            nn.BatchNorm2d(out_channels),\n",
        "            nn.ReLU(inplace=True)\n",
        "        )\n",
        "\n",
        "    def forward(self, x):\n",
        "        return self.double_conv(x)\n",
        "\n",
        "\n",
        "class Down(nn.Module):\n",
        "    \"\"\"Downscaling with maxpool then double conv\"\"\"\n",
        "\n",
        "    def __init__(self, in_channels, out_channels):\n",
        "        super().__init__()\n",
        "        self.maxpool_conv = nn.Sequential(\n",
        "            nn.MaxPool2d(2),\n",
        "            DoubleConv(in_channels, out_channels)\n",
        "        )\n",
        "\n",
        "    def forward(self, x):\n",
        "        return self.maxpool_conv(x)\n",
        "\n",
        "\n",
        "class Up(nn.Module):\n",
        "    \"\"\"Upscaling then double conv\"\"\"\n",
        "\n",
        "    def __init__(self, in_channels, out_channels, bilinear=True):\n",
        "        super().__init__()\n",
        "\n",
        "        # if bilinear, use the normal convolutions to reduce the number of channels\n",
        "        if bilinear:\n",
        "            self.up = nn.Upsample(scale_factor=2, mode='bilinear', align_corners=True)\n",
        "            self.conv = DoubleConv(in_channels, out_channels, in_channels // 2)\n",
        "        else:\n",
        "            self.up = nn.ConvTranspose2d(in_channels, in_channels // 2, kernel_size=2, stride=2)\n",
        "            self.conv = DoubleConv(in_channels, out_channels)\n",
        "\n",
        "    def forward(self, x1, x2):\n",
        "        x1 = self.up(x1)\n",
        "        # input is CHW\n",
        "        diffY = x2.size()[2] - x1.size()[2]\n",
        "        diffX = x2.size()[3] - x1.size()[3]\n",
        "\n",
        "        x1 = F.pad(x1, [diffX // 2, diffX - diffX // 2,\n",
        "                        diffY // 2, diffY - diffY // 2])\n",
        "\n",
        "        x = torch.cat([x2, x1], dim=1)\n",
        "        return self.conv(x)\n",
        "\n",
        "\n",
        "class OutConv(nn.Module):\n",
        "    def __init__(self, in_channels, out_channels):\n",
        "        super(OutConv, self).__init__()\n",
        "        self.conv = nn.Conv2d(in_channels, out_channels, kernel_size=1)\n",
        "\n",
        "    def forward(self, x):\n",
        "        return self.conv(x)"
      ],
      "metadata": {
        "id": "a7OgHoFdLBej"
      },
      "execution_count": null,
      "outputs": []
    },
    {
      "cell_type": "code",
      "source": [
        "class UNet(nn.Module):\n",
        "    def __init__(self, n_channels, n_classes, bilinear=False):\n",
        "        super(UNet, self).__init__()\n",
        "        self.n_channels = n_channels\n",
        "        self.n_classes = n_classes\n",
        "        self.bilinear = bilinear\n",
        "\n",
        "        self.inc = DoubleConv(n_channels, 64)\n",
        "        self.down1 = Down(64, 128)\n",
        "        self.down2 = Down(128, 256)\n",
        "        self.down3 = Down(256, 512)\n",
        "        factor = 2 if bilinear else 1\n",
        "        self.down4 = Down(512, 1024 // factor)\n",
        "        self.up1 = Up(1024, 512 // factor, bilinear)\n",
        "        self.up2 = Up(512, 256 // factor, bilinear)\n",
        "        self.up3 = Up(256, 128 // factor, bilinear)\n",
        "        self.up4 = Up(128, 64, bilinear)\n",
        "        self.outc = OutConv(64, n_classes)\n",
        "\n",
        "    def forward(self, x):\n",
        "        x1 = self.inc(x)\n",
        "        x2 = self.down1(x1)\n",
        "        x3 = self.down2(x2)\n",
        "        x4 = self.down3(x3)\n",
        "        x5 = self.down4(x4)\n",
        "        x = self.up1(x5, x4)\n",
        "        x = self.up2(x, x3)\n",
        "        x = self.up3(x, x2)\n",
        "        x = self.up4(x, x1)\n",
        "        logits = self.outc(x)\n",
        "       \n",
        "        return logits\n",
        "\n"
      ],
      "metadata": {
        "id": "_GaBRad_LCZr"
      },
      "execution_count": null,
      "outputs": []
    },
    {
      "cell_type": "code",
      "source": [
        "model = UNet (1,1)\n",
        "device = torch.device(\"cuda:0\" if torch.cuda.is_available() else \"cpu\")\n",
        "model.to(device)"
      ],
      "metadata": {
        "id": "X7Ex-lf-LG8D"
      },
      "execution_count": null,
      "outputs": []
    },
    {
      "cell_type": "code",
      "source": [
        "import torch.optim as optim\n",
        "import torch.nn.functional as F\n",
        "\n",
        "optimizer = optim.Adam(model.parameters(), lr=0.00001)\n",
        "criterion = nn.BCEWithLogitsLoss()"
      ],
      "metadata": {
        "id": "Z8y9AtAGLPrb"
      },
      "execution_count": null,
      "outputs": []
    },
    {
      "cell_type": "code",
      "source": [
        "loss_list = []\n",
        "val_loss_list = []\n",
        "accuracy_list = []\n",
        "epochs  = 40"
      ],
      "metadata": {
        "id": "IPprk0VCMZeq"
      },
      "execution_count": null,
      "outputs": []
    },
    {
      "cell_type": "code",
      "source": [
        "torch.cuda.empty_cache()"
      ],
      "metadata": {
        "id": "9wYT7WHqnAQ9"
      },
      "execution_count": null,
      "outputs": []
    },
    {
      "cell_type": "code",
      "source": [
        "for epoch in range (epochs):\n",
        "    \n",
        "    running_loss = 0.0\n",
        "    val_running_loss = 0.0\n",
        "    nb_data = 0.\n",
        "    for i, data in enumerate(train_loader, 0):\n",
        "\n",
        "        inputs, masks = data\n",
        "        optimizer.zero_grad()\n",
        "        inputs, masks = inputs.to(device), masks.to(device)\n",
        "      \n",
        "        outputs = model(inputs)             \n",
        "        \n",
        "        \n",
        "        loss = criterion(outputs, masks)\n",
        "        loss.backward()                    \n",
        "        optimizer.step()                   \n",
        " \n",
        "        \n",
        "        running_loss += loss.item()\n",
        "        \n",
        "        nb_data += 1.\n",
        "        \n",
        "    running_loss = running_loss / nb_data\n",
        "    loss_list.append(running_loss)\n",
        "\n",
        "    correct = 0.\n",
        "    total = 0.\n",
        "    nb_data = 0.\n",
        "    accuracy = 0.\n",
        "    with torch.no_grad():\n",
        "      for data in valid_loader:\n",
        "        input, mask = data\n",
        "        input , mask = input.to(device), mask.to(device)\n",
        "        \n",
        "        output = model(input)\n",
        "        val_loss = criterion(output, mask)\n",
        "\n",
        "        val_running_loss += val_loss.item()\n",
        "        \n",
        "        nb_data += 1.\n",
        "        output =torch.sigmoid(output)\n",
        "        output[output>0.5] = 1.0\n",
        "        output[output<=0.5] = 0.0\n",
        "\n",
        "        correct = torch.sum(output == mask)\n",
        "\n",
        "        accuracy += correct / (16*256*256)\n",
        "        \n",
        "    accuracy = accuracy / nb_data  \n",
        "    accuracy_list.append(accuracy.item())\n",
        "    val_running_loss = val_running_loss / nb_data\n",
        "    val_loss_list.append(val_running_loss)\n",
        "    print(\"Epoch \", epoch, \"; train loss = \", running_loss,\n",
        "           \"val loss = \", val_running_loss, \"; accuracy = \", accuracy.item()\n",
        "          )"
      ],
      "metadata": {
        "colab": {
          "base_uri": "https://localhost:8080/"
        },
        "id": "w4Mng4S52AQe",
        "outputId": "19e38a4b-e10c-47f0-f081-72ce71d33653"
      },
      "execution_count": null,
      "outputs": [
        {
          "output_type": "stream",
          "name": "stdout",
          "text": [
            "Epoch  0 ; train loss =  0.8128657471388578 val loss =  0.7863879799842834 ; accuracy =  0.3520142734050751\n",
            "Epoch  1 ; train loss =  0.7499984633177519 val loss =  0.7256105908980737 ; accuracy =  0.41623595356941223\n",
            "Epoch  2 ; train loss =  0.6759855840355158 val loss =  0.6329090870343722 ; accuracy =  0.6110091805458069\n",
            "Epoch  3 ; train loss =  0.6018944438546896 val loss =  0.5767239790696365 ; accuracy =  0.7577109336853027\n",
            "Epoch  4 ; train loss =  0.5509726107120514 val loss =  0.5379502727435186 ; accuracy =  0.8744982481002808\n",
            "Epoch  5 ; train loss =  0.5223608110100031 val loss =  0.5249793850458585 ; accuracy =  0.8973861932754517\n",
            "Epoch  6 ; train loss =  0.5111817503347993 val loss =  0.5008857892109797 ; accuracy =  0.9103842377662659\n",
            "Epoch  7 ; train loss =  0.49099669232964516 val loss =  0.4853769311538109 ; accuracy =  0.9148222208023071\n",
            "Epoch  8 ; train loss =  0.4808023953810334 val loss =  0.47874996753839344 ; accuracy =  0.915030300617218\n",
            "Epoch  9 ; train loss =  0.47518380638211966 val loss =  0.4715834145362561 ; accuracy =  0.9158509373664856\n",
            "Epoch  10 ; train loss =  0.4735105996951461 val loss =  0.4701517636959369 ; accuracy =  0.9143693447113037\n",
            "Epoch  11 ; train loss =  0.46531147602945566 val loss =  0.4626869032016167 ; accuracy =  0.9156497120857239\n",
            "Epoch  12 ; train loss =  0.45808506663888693 val loss =  0.4568680226802826 ; accuracy =  0.9158180356025696\n",
            "Epoch  13 ; train loss =  0.4549694284796715 val loss =  0.45269495248794556 ; accuracy =  0.9161587953567505\n",
            "Epoch  14 ; train loss =  0.45042137801647186 val loss =  0.4494104729248927 ; accuracy =  0.9162615537643433\n",
            "Epoch  15 ; train loss =  0.4467718927189708 val loss =  0.445930343407851 ; accuracy =  0.9159941077232361\n",
            "Epoch  16 ; train loss =  0.44248961098492146 val loss =  0.4447689675367795 ; accuracy =  0.915251612663269\n",
            "Epoch  17 ; train loss =  0.4444097988307476 val loss =  0.43748213006899905 ; accuracy =  0.9166254997253418\n",
            "Epoch  18 ; train loss =  0.4478870490565896 val loss =  0.4437746772399315 ; accuracy =  0.9148274064064026\n",
            "Epoch  19 ; train loss =  0.43904265109449625 val loss =  0.43612319460281956 ; accuracy =  0.9158115983009338\n",
            "Epoch  20 ; train loss =  0.4346271641552448 val loss =  0.431289947949923 ; accuracy =  0.9164275527000427\n",
            "Epoch  21 ; train loss =  0.42973329592496157 val loss =  0.42883487848135143 ; accuracy =  0.9164137244224548\n",
            "Epoch  22 ; train loss =  0.427016899921 val loss =  0.42424750557312596 ; accuracy =  0.9167377352714539\n",
            "Epoch  23 ; train loss =  0.4246512493118644 val loss =  0.42231194560344404 ; accuracy =  0.9166842103004456\n",
            "Epoch  24 ; train loss =  0.42317857034504414 val loss =  0.41969925394425023 ; accuracy =  0.9167104959487915\n",
            "Epoch  25 ; train loss =  0.422044918872416 val loss =  0.41912613006738514 ; accuracy =  0.9164943099021912\n",
            "Epoch  26 ; train loss =  0.418730229139328 val loss =  0.4156263997921577 ; accuracy =  0.9168906807899475\n",
            "Epoch  27 ; train loss =  0.41528451535850763 val loss =  0.41243629730664766 ; accuracy =  0.9168500304222107\n",
            "Epoch  28 ; train loss =  0.4126152405515313 val loss =  0.4098355953509991 ; accuracy =  0.916934609413147\n",
            "Epoch  29 ; train loss =  0.41032758727669716 val loss =  0.40854156017303467 ; accuracy =  0.9169664978981018\n",
            "Epoch  30 ; train loss =  0.40846778731793165 val loss =  0.40533256989258987 ; accuracy =  0.9169930815696716\n",
            "Epoch  31 ; train loss =  0.40610912162810564 val loss =  0.40344096605594343 ; accuracy =  0.9169673323631287\n",
            "Epoch  32 ; train loss =  0.4047203939408064 val loss =  0.40099092859488267 ; accuracy =  0.9169923663139343\n",
            "Epoch  33 ; train loss =  0.4025856591761112 val loss =  0.4010417965742258 ; accuracy =  0.917066752910614\n",
            "Epoch  34 ; train loss =  0.4023449197411537 val loss =  0.3981966766027304 ; accuracy =  0.916888415813446\n",
            "Epoch  35 ; train loss =  0.40587236173450947 val loss =  0.39907578092354995 ; accuracy =  0.9168074727058411\n",
            "Epoch  36 ; train loss =  0.3999423235654831 val loss =  0.39628839034300584 ; accuracy =  0.9167759418487549\n",
            "Epoch  37 ; train loss =  0.3975675068795681 val loss =  0.3933185568222633 ; accuracy =  0.9169489145278931\n",
            "Epoch  38 ; train loss =  0.39487927686423063 val loss =  0.3914880477465116 ; accuracy =  0.9168775081634521\n",
            "Epoch  39 ; train loss =  0.39260289538651705 val loss =  0.39064602897717404 ; accuracy =  0.9169821739196777\n"
          ]
        }
      ]
    },
    {
      "cell_type": "code",
      "source": [
        "torch.save(model.state_dict(), \"UNet.pt\")"
      ],
      "metadata": {
        "id": "RZOAvr-XFMW9"
      },
      "execution_count": null,
      "outputs": []
    },
    {
      "cell_type": "code",
      "source": [
        "import matplotlib.pyplot as plt\n",
        "import numpy as np\n",
        "\n",
        "plt.figure(figsize =(10, 8))\n",
        "plt.plot()\n",
        "plt.plot(range(len(accuracy_list)), accuracy_list)\n",
        "\n",
        "plt.xlabel(\"Epochs\")\n",
        "plt.ylabel(\"Accuracy\")\n",
        "plt.title(\"Validation set accuracy curve\")\n",
        "\n",
        "plt.show()"
      ],
      "metadata": {
        "colab": {
          "base_uri": "https://localhost:8080/",
          "height": 513
        },
        "id": "jjW7xbP6X1QD",
        "outputId": "d74eeb5a-ffc1-4716-9efc-54e390e11220"
      },
      "execution_count": null,
      "outputs": [
        {
          "output_type": "display_data",
          "data": {
            "text/plain": [
              "<Figure size 720x576 with 1 Axes>"
            ],
            "image/png": "[encoded data removed]"
          },
          "metadata": {
            "needs_background": "light"
          }
        }
      ]
    },
    {
      "cell_type": "code",
      "source": [
        "\n",
        "plt.figure(figsize =(10, 8))\n",
        "plt.plot(loss_list, label=\"train loss\")\n",
        "plt.plot(val_loss_list, label=\"validation loss\")\n",
        "plt.xlabel(\"Epochs\")\n",
        "plt.ylabel(\"Loss\")\n",
        "\n",
        "plt.title(\"Loss\")\n",
        "plt.legend()\n",
        "  \n",
        "# To load the display window\n",
        "plt.show()"
      ],
      "metadata": {
        "colab": {
          "base_uri": "https://localhost:8080/",
          "height": 513
        },
        "id": "ZDpciUA1S8k5",
        "outputId": "1d41aa79-d07a-46f1-fac8-fd0c44bc071c"
      },
      "execution_count": null,
      "outputs": [
        {
          "output_type": "display_data",
          "data": {
            "text/plain": [
              "<Figure size 720x576 with 1 Axes>"
            ],
            "image/png": "[encoded data removed]"
          },
          "metadata": {
            "needs_background": "light"
          }
        }
      ]
    }
  ]
}