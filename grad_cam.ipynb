{
  "nbformat": 4,
  "nbformat_minor": 0,
  "metadata": {
    "colab": {
      "name": "grad_cam.ipynb",
      "provenance": [],
      "collapsed_sections": []
    },
    "kernelspec": {
      "name": "python3",
      "display_name": "Python 3"
    },
    "language_info": {
      "name": "python"
    },
    "accelerator": "GPU"
  },
  "cells": [
    {
      "cell_type": "code",
      "execution_count": 1,
      "metadata": {
        "colab": {
          "base_uri": "https://localhost:8080/"
        },
        "id": "8R-Oo1T8m507",
        "outputId": "48600531-86b8-4683-b4ee-07f5d3b0303b"
      },
      "outputs": [
        {
          "output_type": "stream",
          "name": "stdout",
          "text": [
            "Collecting grad-cam\n",
            "  Downloading grad-cam-1.3.7.tar.gz (4.5 MB)\n",
            "\u001b[K     |████████████████████████████████| 4.5 MB 5.1 MB/s \n",
            "\u001b[?25h  Installing build dependencies ... \u001b[?25l\u001b[?25hdone\n",
            "  Getting requirements to build wheel ... \u001b[?25l\u001b[?25hdone\n",
            "    Preparing wheel metadata ... \u001b[?25l\u001b[?25hdone\n",
            "Requirement already satisfied: tqdm in /usr/local/lib/python3.7/dist-packages (from grad-cam) (4.64.0)\n",
            "Requirement already satisfied: opencv-python in /usr/local/lib/python3.7/dist-packages (from grad-cam) (4.1.2.30)\n",
            "Requirement already satisfied: torchvision>=0.8.2 in /usr/local/lib/python3.7/dist-packages (from grad-cam) (0.12.0+cu113)\n",
            "Requirement already satisfied: torch>=1.7.1 in /usr/local/lib/python3.7/dist-packages (from grad-cam) (1.11.0+cu113)\n",
            "Requirement already satisfied: Pillow in /usr/local/lib/python3.7/dist-packages (from grad-cam) (7.1.2)\n",
            "Requirement already satisfied: numpy in /usr/local/lib/python3.7/dist-packages (from grad-cam) (1.21.6)\n",
            "Collecting ttach\n",
            "  Downloading ttach-0.0.3-py3-none-any.whl (9.8 kB)\n",
            "Requirement already satisfied: typing-extensions in /usr/local/lib/python3.7/dist-packages (from torch>=1.7.1->grad-cam) (4.2.0)\n",
            "Requirement already satisfied: requests in /usr/local/lib/python3.7/dist-packages (from torchvision>=0.8.2->grad-cam) (2.23.0)\n",
            "Requirement already satisfied: certifi>=2017.4.17 in /usr/local/lib/python3.7/dist-packages (from requests->torchvision>=0.8.2->grad-cam) (2021.10.8)\n",
            "Requirement already satisfied: urllib3!=1.25.0,!=1.25.1,<1.26,>=1.21.1 in /usr/local/lib/python3.7/dist-packages (from requests->torchvision>=0.8.2->grad-cam) (1.24.3)\n",
            "Requirement already satisfied: chardet<4,>=3.0.2 in /usr/local/lib/python3.7/dist-packages (from requests->torchvision>=0.8.2->grad-cam) (3.0.4)\n",
            "Requirement already satisfied: idna<3,>=2.5 in /usr/local/lib/python3.7/dist-packages (from requests->torchvision>=0.8.2->grad-cam) (2.10)\n",
            "Building wheels for collected packages: grad-cam\n",
            "  Building wheel for grad-cam (PEP 517) ... \u001b[?25l\u001b[?25hdone\n",
            "  Created wheel for grad-cam: filename=grad_cam-1.3.7-py3-none-any.whl size=25953 sha256=67b0381aeade072927fe17d6d055c8fe86d327dde81e3c402890792730b2805d\n",
            "  Stored in directory: /root/.cache/pip/wheels/30/ab/9c/53c523785edffdc6c61755cf82e0dac3342d0d36190c187894\n",
            "Successfully built grad-cam\n",
            "Installing collected packages: ttach, grad-cam\n",
            "Successfully installed grad-cam-1.3.7 ttach-0.0.3\n",
            "Mounted at /content/drive\n",
            "/content/drive/My Drive/Br35H-Mask-RCNN\n"
          ]
        }
      ],
      "source": [
        "!pip install grad-cam\n",
        "root_folder = '/content/drive/My Drive/Br35H-Mask-RCNN'\n",
        "\n",
        "from google.colab import drive\n",
        "drive.mount('/content/drive')\n",
        "%cd \"/content/drive/My Drive/Br35H-Mask-RCNN\""
      ]
    },
    {
      "cell_type": "code",
      "source": [
        "from pytorch_grad_cam import GradCAM, ScoreCAM, GradCAMPlusPlus, AblationCAM, XGradCAM, EigenCAM, FullGrad\n",
        "from pytorch_grad_cam.utils.model_targets import ClassifierOutputTarget\n",
        "from pytorch_grad_cam.utils.image import show_cam_on_image\n",
        "from torchvision.models import resnet50, vgg16\n",
        "import torch\n",
        "from pytorch_grad_cam.utils.image import show_cam_on_image, deprocess_image, preprocess_image\n",
        "import cv2\n",
        "import numpy as np\n",
        "import matplotlib.pyplot as plt\n",
        "from PIL import Image\n",
        "\n",
        "!pip install pretrainedmodels\n",
        "import pretrainedmodels\n",
        "\n",
        "import torch\n",
        "from torch import nn, optim\n",
        "import torchvision\n",
        "from torch.nn import functional as F\n",
        "\n",
        "import torch.nn as nn\n",
        "import torch.nn.functional as F\n",
        "\n",
        "import os\n",
        "import torch\n",
        "import pandas as pd\n",
        "from skimage import io, transform\n",
        "\n",
        "import numpy as np\n",
        "import matplotlib.pyplot as plt\n",
        "from torch.utils.data import Dataset, DataLoader\n",
        "from torchvision import transforms, utils\n",
        "import cv2\n",
        "from PIL import Image\n",
        "import glob\n",
        "from scipy.ndimage import gaussian_filter\n",
        "from sklearn.model_selection import train_test_split"
      ],
      "metadata": {
        "colab": {
          "base_uri": "https://localhost:8080/"
        },
        "id": "3rPtzZEDnLqw",
        "outputId": "dfa17f08-c4c2-496f-d57d-ff91cbec5413"
      },
      "execution_count": 2,
      "outputs": [
        {
          "output_type": "stream",
          "name": "stdout",
          "text": [
            "Collecting pretrainedmodels\n",
            "  Downloading pretrainedmodels-0.7.4.tar.gz (58 kB)\n",
            "\u001b[?25l\r\u001b[K     |█████▋                          | 10 kB 2.2 MB/s eta 0:00:01\r\u001b[K     |███████████▏                    | 20 kB 3.8 MB/s eta 0:00:01\r\u001b[K     |████████████████▊               | 30 kB 4.9 MB/s eta 0:00:01\r\u001b[K     |██████████████████████▎         | 40 kB 6.3 MB/s eta 0:00:01\r\u001b[K     |███████████████████████████▉    | 51 kB 5.3 MB/s eta 0:00:01\r\u001b[K     |████████████████████████████████| 58 kB 2.6 MB/s \n",
            "\u001b[?25hRequirement already satisfied: torch in /usr/local/lib/python3.7/dist-packages (from pretrainedmodels) (1.11.0+cu113)\n",
            "Requirement already satisfied: torchvision in /usr/local/lib/python3.7/dist-packages (from pretrainedmodels) (0.12.0+cu113)\n",
            "Collecting munch\n",
            "  Downloading munch-2.5.0-py2.py3-none-any.whl (10 kB)\n",
            "Requirement already satisfied: tqdm in /usr/local/lib/python3.7/dist-packages (from pretrainedmodels) (4.64.0)\n",
            "Requirement already satisfied: six in /usr/local/lib/python3.7/dist-packages (from munch->pretrainedmodels) (1.15.0)\n",
            "Requirement already satisfied: typing-extensions in /usr/local/lib/python3.7/dist-packages (from torch->pretrainedmodels) (4.2.0)\n",
            "Requirement already satisfied: pillow!=8.3.*,>=5.3.0 in /usr/local/lib/python3.7/dist-packages (from torchvision->pretrainedmodels) (7.1.2)\n",
            "Requirement already satisfied: requests in /usr/local/lib/python3.7/dist-packages (from torchvision->pretrainedmodels) (2.23.0)\n",
            "Requirement already satisfied: numpy in /usr/local/lib/python3.7/dist-packages (from torchvision->pretrainedmodels) (1.21.6)\n",
            "Requirement already satisfied: chardet<4,>=3.0.2 in /usr/local/lib/python3.7/dist-packages (from requests->torchvision->pretrainedmodels) (3.0.4)\n",
            "Requirement already satisfied: idna<3,>=2.5 in /usr/local/lib/python3.7/dist-packages (from requests->torchvision->pretrainedmodels) (2.10)\n",
            "Requirement already satisfied: certifi>=2017.4.17 in /usr/local/lib/python3.7/dist-packages (from requests->torchvision->pretrainedmodels) (2021.10.8)\n",
            "Requirement already satisfied: urllib3!=1.25.0,!=1.25.1,<1.26,>=1.21.1 in /usr/local/lib/python3.7/dist-packages (from requests->torchvision->pretrainedmodels) (1.24.3)\n",
            "Building wheels for collected packages: pretrainedmodels\n",
            "  Building wheel for pretrainedmodels (setup.py) ... \u001b[?25l\u001b[?25hdone\n",
            "  Created wheel for pretrainedmodels: filename=pretrainedmodels-0.7.4-py3-none-any.whl size=60965 sha256=c1a60bfde6bb3bf02710a19d39b9dc736eb9434a347d28fed7bcdb7b41f7d1e5\n",
            "  Stored in directory: /root/.cache/pip/wheels/ed/27/e8/9543d42de2740d3544db96aefef63bda3f2c1761b3334f4873\n",
            "Successfully built pretrainedmodels\n",
            "Installing collected packages: munch, pretrainedmodels\n",
            "Successfully installed munch-2.5.0 pretrainedmodels-0.7.4\n"
          ]
        }
      ]
    },
    {
      "cell_type": "markdown",
      "source": [
        "#Generate Class activation Map for data\n"
      ],
      "metadata": {
        "id": "_0OHsO7NahIK"
      }
    },
    {
      "cell_type": "markdown",
      "source": [
        "## Train CAM"
      ],
      "metadata": {
        "id": "f48_seWJZE3E"
      }
    },
    {
      "cell_type": "code",
      "source": [
        "from PIL import Image\n",
        "\n",
        "dump_model = vgg16(pretrained=True)\n",
        "dump_target_layers = [dump_model.features[-1]] \n",
        "dump_process = transforms.Compose([transforms.ToTensor(),\n",
        "                                    # transforms.Resize((128, 128)),\n",
        "                                    transforms.Normalize((0.485, 0.456, 0.406), (0.229, 0.224, 0.225))])\n",
        "\n",
        "with EigenCAM(model=dump_model, target_layers=dump_target_layers) as dump_cam:\n",
        "  for i in range (500):\n",
        "    image_path = os.path.join (root_folder,\"TRAIN_ANNOT/y\" + str(i) + \".png\" )\n",
        "    dump_img =Image.open(image_path)\n",
        "    dump_input_tensor = torch.unsqueeze(dump_process(dump_img), 0)\n",
        "    dump_grayscale_cam = dump_cam(input_tensor=dump_input_tensor, targets=None)[0, :]\n",
        "    save_path = os.path.join(root_folder,\"T_CAM/y\" + str(i) + \".npy\")\n",
        "    np.save(save_path, dump_grayscale_cam)"
      ],
      "metadata": {
        "id": "506T1rmV1L36"
      },
      "execution_count": null,
      "outputs": []
    },
    {
      "cell_type": "markdown",
      "source": [
        "## Validation CAM"
      ],
      "metadata": {
        "id": "mPrS3_PJkjB5"
      }
    },
    {
      "cell_type": "code",
      "source": [
        "dump_model = vgg16(pretrained=True)\n",
        "dump_target_layers = [dump_model.features[-1]] \n",
        "dump_process = transforms.Compose([transforms.ToTensor(),\n",
        "                                    # transforms.Resize((128, 128)),\n",
        "                                    transforms.Normalize((0.485, 0.456, 0.406), (0.229, 0.224, 0.225))])\n",
        "\n",
        "with EigenCAM(model=dump_model, target_layers=dump_target_layers) as dump_cam:\n",
        "  for i in range (700, 701):\n",
        "    image_path = os.path.join (root_folder,\"VAL_ANNOT/y\" + str(i) + \".png\" )\n",
        "    dump_img =Image.open(image_path)\n",
        "    \n",
        "    dump_input_tensor = torch.unsqueeze(dump_process(dump_img), 0)\n",
        "    dump_grayscale_cam = dump_cam(input_tensor=dump_input_tensor, targets=None)[0, :]\n",
        "\n",
        "    save_path = os.path.join(root_folder,\"V_CAM/y\" + str(i) + \".npy\")\n",
        "    np.save(save_path, dump_grayscale_cam)"
      ],
      "metadata": {
        "id": "IILquEUhknj_"
      },
      "execution_count": 9,
      "outputs": []
    },
    {
      "cell_type": "markdown",
      "source": [
        "## Test CAM"
      ],
      "metadata": {
        "id": "Z9fXQJO51YBg"
      }
    },
    {
      "cell_type": "code",
      "source": [
        "dump_model = vgg16(pretrained=True)\n",
        "dump_target_layers = [dump_model.features[-1]] \n",
        "dump_process = transforms.Compose([transforms.ToTensor(),\n",
        "                                    # transforms.Resize((128, 128)),\n",
        "                                    transforms.Normalize((0.485, 0.456, 0.406), (0.229, 0.224, 0.225))])\n",
        "\n",
        "with EigenCAM(model=dump_model, target_layers=dump_target_layers) as dump_cam:\n",
        "  for i in range (700, 701):\n",
        "    image_path = os.path.join (root_folder,\"TEST_ANNOT/y\" + str(i) + \".png\" )\n",
        "    dump_img =Image.open(image_path)\n",
        "    dump_input_tensor = torch.unsqueeze(dump_process(dump_img), 0)\n",
        "    dump_grayscale_cam = dump_cam(input_tensor=dump_input_tensor, targets=None)[0, :]\n",
        "\n",
        "    save_path = os.path.join(root_folder,\"TEST_CAM/y\" + str(i) + \".npy\")\n",
        "    np.save(save_path, dump_grayscale_cam)"
      ],
      "metadata": {
        "id": "ktJD8je_1Zxh"
      },
      "execution_count": null,
      "outputs": []
    },
    {
      "cell_type": "markdown",
      "source": [
        "Display one cam example"
      ],
      "metadata": {
        "id": "3TTtMSJUNI_J"
      }
    },
    {
      "cell_type": "code",
      "source": [
        "import numpy as np\n",
        "\n",
        "img_array = np.load(os.path.join(root_folder,'T_CAM/y30.npy'))\n",
        "from matplotlib import pyplot as plt\n",
        "\n",
        "plt.imshow(img_array, cmap='gray')\n",
        "plt.show()"
      ],
      "metadata": {
        "colab": {
          "base_uri": "https://localhost:8080/",
          "height": 269
        },
        "id": "lCTdHCQno2Gb",
        "outputId": "bca9070f-b7b3-43e5-db36-b97f4ef3944e"
      },
      "execution_count": null,
      "outputs": [
        {
          "output_type": "display_data",
          "data": {
            "text/plain": [
              "<Figure size 432x288 with 1 Axes>"
            ],
            "image/png": "[encoded data removed]"
          },
          "metadata": {
            "needs_background": "light"
          }
        }
      ]
    }
  ]
}